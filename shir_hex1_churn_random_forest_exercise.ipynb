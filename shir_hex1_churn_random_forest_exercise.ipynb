{
  "cells": [
    {
      "cell_type": "markdown",
      "id": "0c4f9a44",
      "metadata": {
        "id": "0c4f9a44"
      },
      "source": [
        "# 🧠 Predicting Customer Churn Using Random Forests\n",
        "Welcome to this practical machine learning exercise. In this notebook, you'll develop a solution for predicting customer churn — a classic and highly practical problem in economics, management, and business analytics.\n",
        "\n",
        "**Goal:** Apply machine learning to identify customers at risk of leaving (churning), using historical data.\n",
        "\n",
        "Along the way, you'll:\n",
        "- Preprocess data responsibly (avoiding leakage)\n",
        "- Train and evaluate models\n",
        "- Build pipelines for cleaner workflows\n",
        "- Tune models using validation sets\n",
        "- Deploy a final product-ready solution\n",
        "\n",
        "This notebook emphasizes **intuitive understanding**, **real-world practices**, and links to **further resources**."
      ]
    },
    {
      "cell_type": "markdown",
      "id": "9f6efa9c-5882-4b42-b50f-a4ab2d49462b",
      "metadata": {
        "id": "9f6efa9c-5882-4b42-b50f-a4ab2d49462b"
      },
      "source": [
        "**Note:** Documentation links are provided extensively, to help you, in the following format:\n",
        "  - [📘 StandardScaler](https://scikit-learn.org/stable/modules/generated/sklearn.preprocessing.StandardScaler.html)"
      ]
    },
    {
      "cell_type": "markdown",
      "id": "88a09d78-c36f-4a6b-bace-983e2e2108d8",
      "metadata": {
        "id": "88a09d78-c36f-4a6b-bace-983e2e2108d8"
      },
      "source": [
        "**Note: Whenever you see the ✍️ symbol, it means you must fill in the blanks with your own code!**"
      ]
    },
    {
      "cell_type": "markdown",
      "id": "fba58bf0-b2e4-4a38-9be0-d3614c4ef242",
      "metadata": {
        "id": "fba58bf0-b2e4-4a38-9be0-d3614c4ef242"
      },
      "source": [
        "## ⚙️ Step 0: Setup\n",
        "\n",
        "Before we begin, we load the core Python libraries used for:\n",
        "- **Data manipulation** (`pandas`, `numpy`)\n",
        "- **Visualization** (`matplotlib`, `seaborn`)\n",
        "- **Modeling and preprocessing** (`sklearn`)\n",
        "\n",
        "We'll also be using the **scikit-learn** machine learning library throughout this notebook — make sure to check the documentation links provided at each step."
      ]
    },
    {
      "cell_type": "code",
      "execution_count": 1,
      "id": "4bb394df",
      "metadata": {
        "id": "4bb394df"
      },
      "outputs": [],
      "source": [
        "# Common libraries\n",
        "import pandas as pd\n",
        "import numpy as np\n",
        "import matplotlib.pyplot as plt\n",
        "import seaborn as sns\n",
        "\n",
        "# Preprocessing and modeling tools\n",
        "from sklearn.model_selection import train_test_split\n",
        "from sklearn.ensemble import RandomForestClassifier\n",
        "from sklearn.preprocessing import StandardScaler, OneHotEncoder\n",
        "from sklearn.compose import ColumnTransformer\n",
        "from sklearn.pipeline import Pipeline\n",
        "from sklearn.metrics import classification_report, confusion_matrix, accuracy_score, ConfusionMatrixDisplay"
      ]
    },
    {
      "cell_type": "markdown",
      "id": "9b7451e1-3a54-4e3f-8bc7-d416d529a1ba",
      "metadata": {
        "id": "9b7451e1-3a54-4e3f-8bc7-d416d529a1ba"
      },
      "source": [
        "## 📊 Step 1: Load the Data\n",
        "\n",
        "The dataset contains customer data from a (fictional) telecom company. Each row is a customer, and each column is an attribute describing that customer’s usage patterns or account features.\n",
        "\n",
        "You are given a **train set** and a **test set** (pre-split). This setup simulates a situation where you're developing a model using historical data and then testing how well it might generalize to new customers."
      ]
    },
    {
      "cell_type": "code",
      "execution_count": 2,
      "id": "6d6f94d6",
      "metadata": {
        "id": "6d6f94d6"
      },
      "outputs": [],
      "source": [
        "# Load data\n",
        "# ✍️ Load the the training set into df_train and the test set into df_test.\n",
        "df_train=pd.read_csv(\"churn_train.csv\")\n",
        "df_test=pd.read_csv(\"churn_test.csv\")"
      ]
    },
    {
      "cell_type": "markdown",
      "id": "b179da29",
      "metadata": {
        "id": "b179da29"
      },
      "source": [
        "## 🎯 Step 2: Understand the Problem — Classification\n",
        "This is a **binary classification problem**: each customer either **churns** (`Churn = Yes`) or **stays** (`Churn = No`).\n",
        "\n",
        "**Class imbalance:** Only ~14% of customers are churners. This will affect how we train and evaluate the model.\n",
        "\n",
        "📌 We'll address this through evaluation metrics like precision and recall."
      ]
    },
    {
      "cell_type": "code",
      "execution_count": 3,
      "id": "5afafe94",
      "metadata": {
        "id": "5afafe94"
      },
      "outputs": [],
      "source": [
        "# Separate features and target\n",
        "# ✍️ Split df_train into X_train and y_train; do the same for df_test.\n",
        "X_train = df_train.drop(columns=\"Churn\")\n",
        "y_train = df_train[\"Churn\"]\n",
        "\n",
        "X_test = df_test.drop(columns=\"Churn\")\n",
        "y_test = df_test[\"Churn\"]\n",
        "\n"
      ]
    },
    {
      "cell_type": "markdown",
      "id": "96c87e08-9b46-489e-a602-6c041dcfa375",
      "metadata": {
        "id": "96c87e08-9b46-489e-a602-6c041dcfa375"
      },
      "source": [
        "## 🧹 Step 3: Preprocessing — Manual (Leakage-Free)\n",
        "\n",
        "Preprocessing is where most real-world ML effort goes. We must:\n",
        "1. Encode **categorical** features numerically (for the model).\n",
        "2. Scale **numerical** features to help model convergence.\n",
        "3. Avoid **data leakage**: Never use information from the test set to preprocess the training set!\n",
        "\n",
        "📌 We'll handle categorical and numeric features **separately** and then combine them."
      ]
    },
    {
      "cell_type": "code",
      "source": [
        "# prompt: # Identify feature types\n",
        "# # ✍️ Create a list variable named categorical_features, containing the names of all categorical feature columns.\n",
        "# # ✍️ Create a list variable named numeric_features, containing the names of all numeric feature columns.\n",
        "\n",
        "categorical_features = X_train.select_dtypes(include=\"object\").columns.tolist()\n",
        "numeric_features = X_train.select_dtypes(include=[\"int64\", \"float64\"]).columns.tolist()\n",
        "\n"
      ],
      "metadata": {
        "id": "Ii9a2GwAJFtI"
      },
      "id": "Ii9a2GwAJFtI",
      "execution_count": 4,
      "outputs": []
    },
    {
      "cell_type": "code",
      "source": [
        "#categorical_features = ['gender', 'Partner', 'Dependents', 'PhoneService', 'MultipleLines', 'InternetService', 'OnlineSecurity', 'OnlineBackup', 'DeviceProtection', 'TechSupport', 'StreamingTV', 'StreamingMovies', 'Contract', 'PaperlessBilling', 'PaymentMethod']\n",
        "#numeric_features = ['SeniorCitizen', 'tenure', 'MonthlyCharges', 'TotalCharges']"
      ],
      "metadata": {
        "id": "_j-qMLtZXFex"
      },
      "id": "_j-qMLtZXFex",
      "execution_count": 7,
      "outputs": []
    },
    {
      "cell_type": "code",
      "source": [
        "# prompt: # prompt: # Manual preprocessing\n",
        "# # # ✍️ Fit a OneHotEncoder to the training set, but apply it to both the training and test set!\n",
        "# # # 💡 Hint: Recall the difference between the `fit`, `transform` and `fit_transform` methods.\n",
        "# # # ❗ Important! Use `sparse=False` or `sparse_output=False` (depending on the version of sklearn you're using)\n",
        "# # # when initializing your OneHotEncoder! It will be important later!\n",
        "\n",
        "ohe = OneHotEncoder(handle_unknown=\"ignore\", sparse_output=False)\n",
        "\n",
        "X_train_cat_encoded = ohe.fit_transform(X_train[categorical_features])\n",
        "X_test_cat_encoded = ohe.transform(X_test[categorical_features])\n",
        "\n",
        "\n",
        "# # # ✍️ Now fit a StandardScaler to the training set, but apply it to both the training and test set!\n",
        "# Ensure column names match exactly (case-sensitive and no extra spaces)\n",
        "\n",
        "scaler = StandardScaler()\n",
        "\n",
        "X_train_num_scaled = scaler.fit_transform(X_train[numeric_features])\n",
        "X_test_num_scaled = scaler.transform(X_test[numeric_features])\n"
      ],
      "metadata": {
        "id": "iXxo3nwDRUtc"
      },
      "id": "iXxo3nwDRUtc",
      "execution_count": 6,
      "outputs": []
    },
    {
      "cell_type": "code",
      "execution_count": 9,
      "id": "c6090c3e",
      "metadata": {
        "id": "c6090c3e"
      },
      "outputs": [],
      "source": [
        "# We now combine the numerical and categorical features:\n",
        "# ℹ️ This wouldn't have worked without `sparse=False`!\n",
        "X_train_final = np.hstack([X_train_num_scaled, X_train_cat_encoded])\n",
        "X_test_final = np.hstack([X_test_num_scaled, X_test_cat_encoded])"
      ]
    },
    {
      "cell_type": "markdown",
      "id": "d40a93cd-b574-4fc2-84c4-65f181d24109",
      "metadata": {
        "id": "d40a93cd-b574-4fc2-84c4-65f181d24109"
      },
      "source": [
        "🎓 **Why this matters**:\n",
        "\n",
        "- **StandardScaler** rescales features to mean 0 and standard deviation 1, making tree-based models faster and more robust.\n",
        "  - [📘 StandardScaler](https://scikit-learn.org/stable/modules/generated/sklearn.preprocessing.StandardScaler.html)\n",
        "\n",
        "- **OneHotEncoder** converts categorical variables into binary vectors.\n",
        "  - [📘 OneHotEncoder](https://scikit-learn.org/stable/modules/generated/sklearn.preprocessing.OneHotEncoder.html)\n",
        "\n",
        "✍️ **Your Turn**: Combine the categorical and numeric processed arrays with `np.hstack(...)` to get `X_train_final` and `X_test_final`."
      ]
    },
    {
      "cell_type": "markdown",
      "id": "5b376e2e-6416-4169-97b7-a3357a060f4a",
      "metadata": {
        "id": "5b376e2e-6416-4169-97b7-a3357a060f4a"
      },
      "source": [
        "## 🌲 Step 4: Random Forest Training\n",
        "\n",
        "**Random Forests** are one of the most versatile and powerful classifiers, especially for tabular data.\n",
        "\n",
        "They are:\n",
        "- **Ensemble models** made of many decision trees.\n",
        "- Resistant to overfitting thanks to randomness.\n",
        "- Handle both categorical (after encoding) and numeric features well.\n",
        "\n",
        "[📘 RandomForestClassifier Docs](https://scikit-learn.org/stable/modules/generated/sklearn.ensemble.RandomForestClassifier.html)"
      ]
    },
    {
      "cell_type": "code",
      "execution_count": 11,
      "id": "6247024c",
      "metadata": {
        "colab": {
          "base_uri": "https://localhost:8080/",
          "height": 80
        },
        "id": "6247024c",
        "outputId": "b4d1e39a-7981-457f-83b6-82f2cb2c4b32"
      },
      "outputs": [
        {
          "output_type": "execute_result",
          "data": {
            "text/plain": [
              "RandomForestClassifier(random_state=42)"
            ],
            "text/html": [
              "<style>#sk-container-id-1 {\n",
              "  /* Definition of color scheme common for light and dark mode */\n",
              "  --sklearn-color-text: #000;\n",
              "  --sklearn-color-text-muted: #666;\n",
              "  --sklearn-color-line: gray;\n",
              "  /* Definition of color scheme for unfitted estimators */\n",
              "  --sklearn-color-unfitted-level-0: #fff5e6;\n",
              "  --sklearn-color-unfitted-level-1: #f6e4d2;\n",
              "  --sklearn-color-unfitted-level-2: #ffe0b3;\n",
              "  --sklearn-color-unfitted-level-3: chocolate;\n",
              "  /* Definition of color scheme for fitted estimators */\n",
              "  --sklearn-color-fitted-level-0: #f0f8ff;\n",
              "  --sklearn-color-fitted-level-1: #d4ebff;\n",
              "  --sklearn-color-fitted-level-2: #b3dbfd;\n",
              "  --sklearn-color-fitted-level-3: cornflowerblue;\n",
              "\n",
              "  /* Specific color for light theme */\n",
              "  --sklearn-color-text-on-default-background: var(--sg-text-color, var(--theme-code-foreground, var(--jp-content-font-color1, black)));\n",
              "  --sklearn-color-background: var(--sg-background-color, var(--theme-background, var(--jp-layout-color0, white)));\n",
              "  --sklearn-color-border-box: var(--sg-text-color, var(--theme-code-foreground, var(--jp-content-font-color1, black)));\n",
              "  --sklearn-color-icon: #696969;\n",
              "\n",
              "  @media (prefers-color-scheme: dark) {\n",
              "    /* Redefinition of color scheme for dark theme */\n",
              "    --sklearn-color-text-on-default-background: var(--sg-text-color, var(--theme-code-foreground, var(--jp-content-font-color1, white)));\n",
              "    --sklearn-color-background: var(--sg-background-color, var(--theme-background, var(--jp-layout-color0, #111)));\n",
              "    --sklearn-color-border-box: var(--sg-text-color, var(--theme-code-foreground, var(--jp-content-font-color1, white)));\n",
              "    --sklearn-color-icon: #878787;\n",
              "  }\n",
              "}\n",
              "\n",
              "#sk-container-id-1 {\n",
              "  color: var(--sklearn-color-text);\n",
              "}\n",
              "\n",
              "#sk-container-id-1 pre {\n",
              "  padding: 0;\n",
              "}\n",
              "\n",
              "#sk-container-id-1 input.sk-hidden--visually {\n",
              "  border: 0;\n",
              "  clip: rect(1px 1px 1px 1px);\n",
              "  clip: rect(1px, 1px, 1px, 1px);\n",
              "  height: 1px;\n",
              "  margin: -1px;\n",
              "  overflow: hidden;\n",
              "  padding: 0;\n",
              "  position: absolute;\n",
              "  width: 1px;\n",
              "}\n",
              "\n",
              "#sk-container-id-1 div.sk-dashed-wrapped {\n",
              "  border: 1px dashed var(--sklearn-color-line);\n",
              "  margin: 0 0.4em 0.5em 0.4em;\n",
              "  box-sizing: border-box;\n",
              "  padding-bottom: 0.4em;\n",
              "  background-color: var(--sklearn-color-background);\n",
              "}\n",
              "\n",
              "#sk-container-id-1 div.sk-container {\n",
              "  /* jupyter's `normalize.less` sets `[hidden] { display: none; }`\n",
              "     but bootstrap.min.css set `[hidden] { display: none !important; }`\n",
              "     so we also need the `!important` here to be able to override the\n",
              "     default hidden behavior on the sphinx rendered scikit-learn.org.\n",
              "     See: https://github.com/scikit-learn/scikit-learn/issues/21755 */\n",
              "  display: inline-block !important;\n",
              "  position: relative;\n",
              "}\n",
              "\n",
              "#sk-container-id-1 div.sk-text-repr-fallback {\n",
              "  display: none;\n",
              "}\n",
              "\n",
              "div.sk-parallel-item,\n",
              "div.sk-serial,\n",
              "div.sk-item {\n",
              "  /* draw centered vertical line to link estimators */\n",
              "  background-image: linear-gradient(var(--sklearn-color-text-on-default-background), var(--sklearn-color-text-on-default-background));\n",
              "  background-size: 2px 100%;\n",
              "  background-repeat: no-repeat;\n",
              "  background-position: center center;\n",
              "}\n",
              "\n",
              "/* Parallel-specific style estimator block */\n",
              "\n",
              "#sk-container-id-1 div.sk-parallel-item::after {\n",
              "  content: \"\";\n",
              "  width: 100%;\n",
              "  border-bottom: 2px solid var(--sklearn-color-text-on-default-background);\n",
              "  flex-grow: 1;\n",
              "}\n",
              "\n",
              "#sk-container-id-1 div.sk-parallel {\n",
              "  display: flex;\n",
              "  align-items: stretch;\n",
              "  justify-content: center;\n",
              "  background-color: var(--sklearn-color-background);\n",
              "  position: relative;\n",
              "}\n",
              "\n",
              "#sk-container-id-1 div.sk-parallel-item {\n",
              "  display: flex;\n",
              "  flex-direction: column;\n",
              "}\n",
              "\n",
              "#sk-container-id-1 div.sk-parallel-item:first-child::after {\n",
              "  align-self: flex-end;\n",
              "  width: 50%;\n",
              "}\n",
              "\n",
              "#sk-container-id-1 div.sk-parallel-item:last-child::after {\n",
              "  align-self: flex-start;\n",
              "  width: 50%;\n",
              "}\n",
              "\n",
              "#sk-container-id-1 div.sk-parallel-item:only-child::after {\n",
              "  width: 0;\n",
              "}\n",
              "\n",
              "/* Serial-specific style estimator block */\n",
              "\n",
              "#sk-container-id-1 div.sk-serial {\n",
              "  display: flex;\n",
              "  flex-direction: column;\n",
              "  align-items: center;\n",
              "  background-color: var(--sklearn-color-background);\n",
              "  padding-right: 1em;\n",
              "  padding-left: 1em;\n",
              "}\n",
              "\n",
              "\n",
              "/* Toggleable style: style used for estimator/Pipeline/ColumnTransformer box that is\n",
              "clickable and can be expanded/collapsed.\n",
              "- Pipeline and ColumnTransformer use this feature and define the default style\n",
              "- Estimators will overwrite some part of the style using the `sk-estimator` class\n",
              "*/\n",
              "\n",
              "/* Pipeline and ColumnTransformer style (default) */\n",
              "\n",
              "#sk-container-id-1 div.sk-toggleable {\n",
              "  /* Default theme specific background. It is overwritten whether we have a\n",
              "  specific estimator or a Pipeline/ColumnTransformer */\n",
              "  background-color: var(--sklearn-color-background);\n",
              "}\n",
              "\n",
              "/* Toggleable label */\n",
              "#sk-container-id-1 label.sk-toggleable__label {\n",
              "  cursor: pointer;\n",
              "  display: flex;\n",
              "  width: 100%;\n",
              "  margin-bottom: 0;\n",
              "  padding: 0.5em;\n",
              "  box-sizing: border-box;\n",
              "  text-align: center;\n",
              "  align-items: start;\n",
              "  justify-content: space-between;\n",
              "  gap: 0.5em;\n",
              "}\n",
              "\n",
              "#sk-container-id-1 label.sk-toggleable__label .caption {\n",
              "  font-size: 0.6rem;\n",
              "  font-weight: lighter;\n",
              "  color: var(--sklearn-color-text-muted);\n",
              "}\n",
              "\n",
              "#sk-container-id-1 label.sk-toggleable__label-arrow:before {\n",
              "  /* Arrow on the left of the label */\n",
              "  content: \"▸\";\n",
              "  float: left;\n",
              "  margin-right: 0.25em;\n",
              "  color: var(--sklearn-color-icon);\n",
              "}\n",
              "\n",
              "#sk-container-id-1 label.sk-toggleable__label-arrow:hover:before {\n",
              "  color: var(--sklearn-color-text);\n",
              "}\n",
              "\n",
              "/* Toggleable content - dropdown */\n",
              "\n",
              "#sk-container-id-1 div.sk-toggleable__content {\n",
              "  max-height: 0;\n",
              "  max-width: 0;\n",
              "  overflow: hidden;\n",
              "  text-align: left;\n",
              "  /* unfitted */\n",
              "  background-color: var(--sklearn-color-unfitted-level-0);\n",
              "}\n",
              "\n",
              "#sk-container-id-1 div.sk-toggleable__content.fitted {\n",
              "  /* fitted */\n",
              "  background-color: var(--sklearn-color-fitted-level-0);\n",
              "}\n",
              "\n",
              "#sk-container-id-1 div.sk-toggleable__content pre {\n",
              "  margin: 0.2em;\n",
              "  border-radius: 0.25em;\n",
              "  color: var(--sklearn-color-text);\n",
              "  /* unfitted */\n",
              "  background-color: var(--sklearn-color-unfitted-level-0);\n",
              "}\n",
              "\n",
              "#sk-container-id-1 div.sk-toggleable__content.fitted pre {\n",
              "  /* unfitted */\n",
              "  background-color: var(--sklearn-color-fitted-level-0);\n",
              "}\n",
              "\n",
              "#sk-container-id-1 input.sk-toggleable__control:checked~div.sk-toggleable__content {\n",
              "  /* Expand drop-down */\n",
              "  max-height: 200px;\n",
              "  max-width: 100%;\n",
              "  overflow: auto;\n",
              "}\n",
              "\n",
              "#sk-container-id-1 input.sk-toggleable__control:checked~label.sk-toggleable__label-arrow:before {\n",
              "  content: \"▾\";\n",
              "}\n",
              "\n",
              "/* Pipeline/ColumnTransformer-specific style */\n",
              "\n",
              "#sk-container-id-1 div.sk-label input.sk-toggleable__control:checked~label.sk-toggleable__label {\n",
              "  color: var(--sklearn-color-text);\n",
              "  background-color: var(--sklearn-color-unfitted-level-2);\n",
              "}\n",
              "\n",
              "#sk-container-id-1 div.sk-label.fitted input.sk-toggleable__control:checked~label.sk-toggleable__label {\n",
              "  background-color: var(--sklearn-color-fitted-level-2);\n",
              "}\n",
              "\n",
              "/* Estimator-specific style */\n",
              "\n",
              "/* Colorize estimator box */\n",
              "#sk-container-id-1 div.sk-estimator input.sk-toggleable__control:checked~label.sk-toggleable__label {\n",
              "  /* unfitted */\n",
              "  background-color: var(--sklearn-color-unfitted-level-2);\n",
              "}\n",
              "\n",
              "#sk-container-id-1 div.sk-estimator.fitted input.sk-toggleable__control:checked~label.sk-toggleable__label {\n",
              "  /* fitted */\n",
              "  background-color: var(--sklearn-color-fitted-level-2);\n",
              "}\n",
              "\n",
              "#sk-container-id-1 div.sk-label label.sk-toggleable__label,\n",
              "#sk-container-id-1 div.sk-label label {\n",
              "  /* The background is the default theme color */\n",
              "  color: var(--sklearn-color-text-on-default-background);\n",
              "}\n",
              "\n",
              "/* On hover, darken the color of the background */\n",
              "#sk-container-id-1 div.sk-label:hover label.sk-toggleable__label {\n",
              "  color: var(--sklearn-color-text);\n",
              "  background-color: var(--sklearn-color-unfitted-level-2);\n",
              "}\n",
              "\n",
              "/* Label box, darken color on hover, fitted */\n",
              "#sk-container-id-1 div.sk-label.fitted:hover label.sk-toggleable__label.fitted {\n",
              "  color: var(--sklearn-color-text);\n",
              "  background-color: var(--sklearn-color-fitted-level-2);\n",
              "}\n",
              "\n",
              "/* Estimator label */\n",
              "\n",
              "#sk-container-id-1 div.sk-label label {\n",
              "  font-family: monospace;\n",
              "  font-weight: bold;\n",
              "  display: inline-block;\n",
              "  line-height: 1.2em;\n",
              "}\n",
              "\n",
              "#sk-container-id-1 div.sk-label-container {\n",
              "  text-align: center;\n",
              "}\n",
              "\n",
              "/* Estimator-specific */\n",
              "#sk-container-id-1 div.sk-estimator {\n",
              "  font-family: monospace;\n",
              "  border: 1px dotted var(--sklearn-color-border-box);\n",
              "  border-radius: 0.25em;\n",
              "  box-sizing: border-box;\n",
              "  margin-bottom: 0.5em;\n",
              "  /* unfitted */\n",
              "  background-color: var(--sklearn-color-unfitted-level-0);\n",
              "}\n",
              "\n",
              "#sk-container-id-1 div.sk-estimator.fitted {\n",
              "  /* fitted */\n",
              "  background-color: var(--sklearn-color-fitted-level-0);\n",
              "}\n",
              "\n",
              "/* on hover */\n",
              "#sk-container-id-1 div.sk-estimator:hover {\n",
              "  /* unfitted */\n",
              "  background-color: var(--sklearn-color-unfitted-level-2);\n",
              "}\n",
              "\n",
              "#sk-container-id-1 div.sk-estimator.fitted:hover {\n",
              "  /* fitted */\n",
              "  background-color: var(--sklearn-color-fitted-level-2);\n",
              "}\n",
              "\n",
              "/* Specification for estimator info (e.g. \"i\" and \"?\") */\n",
              "\n",
              "/* Common style for \"i\" and \"?\" */\n",
              "\n",
              ".sk-estimator-doc-link,\n",
              "a:link.sk-estimator-doc-link,\n",
              "a:visited.sk-estimator-doc-link {\n",
              "  float: right;\n",
              "  font-size: smaller;\n",
              "  line-height: 1em;\n",
              "  font-family: monospace;\n",
              "  background-color: var(--sklearn-color-background);\n",
              "  border-radius: 1em;\n",
              "  height: 1em;\n",
              "  width: 1em;\n",
              "  text-decoration: none !important;\n",
              "  margin-left: 0.5em;\n",
              "  text-align: center;\n",
              "  /* unfitted */\n",
              "  border: var(--sklearn-color-unfitted-level-1) 1pt solid;\n",
              "  color: var(--sklearn-color-unfitted-level-1);\n",
              "}\n",
              "\n",
              ".sk-estimator-doc-link.fitted,\n",
              "a:link.sk-estimator-doc-link.fitted,\n",
              "a:visited.sk-estimator-doc-link.fitted {\n",
              "  /* fitted */\n",
              "  border: var(--sklearn-color-fitted-level-1) 1pt solid;\n",
              "  color: var(--sklearn-color-fitted-level-1);\n",
              "}\n",
              "\n",
              "/* On hover */\n",
              "div.sk-estimator:hover .sk-estimator-doc-link:hover,\n",
              ".sk-estimator-doc-link:hover,\n",
              "div.sk-label-container:hover .sk-estimator-doc-link:hover,\n",
              ".sk-estimator-doc-link:hover {\n",
              "  /* unfitted */\n",
              "  background-color: var(--sklearn-color-unfitted-level-3);\n",
              "  color: var(--sklearn-color-background);\n",
              "  text-decoration: none;\n",
              "}\n",
              "\n",
              "div.sk-estimator.fitted:hover .sk-estimator-doc-link.fitted:hover,\n",
              ".sk-estimator-doc-link.fitted:hover,\n",
              "div.sk-label-container:hover .sk-estimator-doc-link.fitted:hover,\n",
              ".sk-estimator-doc-link.fitted:hover {\n",
              "  /* fitted */\n",
              "  background-color: var(--sklearn-color-fitted-level-3);\n",
              "  color: var(--sklearn-color-background);\n",
              "  text-decoration: none;\n",
              "}\n",
              "\n",
              "/* Span, style for the box shown on hovering the info icon */\n",
              ".sk-estimator-doc-link span {\n",
              "  display: none;\n",
              "  z-index: 9999;\n",
              "  position: relative;\n",
              "  font-weight: normal;\n",
              "  right: .2ex;\n",
              "  padding: .5ex;\n",
              "  margin: .5ex;\n",
              "  width: min-content;\n",
              "  min-width: 20ex;\n",
              "  max-width: 50ex;\n",
              "  color: var(--sklearn-color-text);\n",
              "  box-shadow: 2pt 2pt 4pt #999;\n",
              "  /* unfitted */\n",
              "  background: var(--sklearn-color-unfitted-level-0);\n",
              "  border: .5pt solid var(--sklearn-color-unfitted-level-3);\n",
              "}\n",
              "\n",
              ".sk-estimator-doc-link.fitted span {\n",
              "  /* fitted */\n",
              "  background: var(--sklearn-color-fitted-level-0);\n",
              "  border: var(--sklearn-color-fitted-level-3);\n",
              "}\n",
              "\n",
              ".sk-estimator-doc-link:hover span {\n",
              "  display: block;\n",
              "}\n",
              "\n",
              "/* \"?\"-specific style due to the `<a>` HTML tag */\n",
              "\n",
              "#sk-container-id-1 a.estimator_doc_link {\n",
              "  float: right;\n",
              "  font-size: 1rem;\n",
              "  line-height: 1em;\n",
              "  font-family: monospace;\n",
              "  background-color: var(--sklearn-color-background);\n",
              "  border-radius: 1rem;\n",
              "  height: 1rem;\n",
              "  width: 1rem;\n",
              "  text-decoration: none;\n",
              "  /* unfitted */\n",
              "  color: var(--sklearn-color-unfitted-level-1);\n",
              "  border: var(--sklearn-color-unfitted-level-1) 1pt solid;\n",
              "}\n",
              "\n",
              "#sk-container-id-1 a.estimator_doc_link.fitted {\n",
              "  /* fitted */\n",
              "  border: var(--sklearn-color-fitted-level-1) 1pt solid;\n",
              "  color: var(--sklearn-color-fitted-level-1);\n",
              "}\n",
              "\n",
              "/* On hover */\n",
              "#sk-container-id-1 a.estimator_doc_link:hover {\n",
              "  /* unfitted */\n",
              "  background-color: var(--sklearn-color-unfitted-level-3);\n",
              "  color: var(--sklearn-color-background);\n",
              "  text-decoration: none;\n",
              "}\n",
              "\n",
              "#sk-container-id-1 a.estimator_doc_link.fitted:hover {\n",
              "  /* fitted */\n",
              "  background-color: var(--sklearn-color-fitted-level-3);\n",
              "}\n",
              "</style><div id=\"sk-container-id-1\" class=\"sk-top-container\"><div class=\"sk-text-repr-fallback\"><pre>RandomForestClassifier(random_state=42)</pre><b>In a Jupyter environment, please rerun this cell to show the HTML representation or trust the notebook. <br />On GitHub, the HTML representation is unable to render, please try loading this page with nbviewer.org.</b></div><div class=\"sk-container\" hidden><div class=\"sk-item\"><div class=\"sk-estimator fitted sk-toggleable\"><input class=\"sk-toggleable__control sk-hidden--visually\" id=\"sk-estimator-id-1\" type=\"checkbox\" checked><label for=\"sk-estimator-id-1\" class=\"sk-toggleable__label fitted sk-toggleable__label-arrow\"><div><div>RandomForestClassifier</div></div><div><a class=\"sk-estimator-doc-link fitted\" rel=\"noreferrer\" target=\"_blank\" href=\"https://scikit-learn.org/1.6/modules/generated/sklearn.ensemble.RandomForestClassifier.html\">?<span>Documentation for RandomForestClassifier</span></a><span class=\"sk-estimator-doc-link fitted\">i<span>Fitted</span></span></div></label><div class=\"sk-toggleable__content fitted\"><pre>RandomForestClassifier(random_state=42)</pre></div> </div></div></div></div>"
            ]
          },
          "metadata": {},
          "execution_count": 11
        }
      ],
      "source": [
        "# Train a Random Forest classifier\n",
        "# ✍️ Create a new RandomForestClassifier and assign it the a variable named `model`.\n",
        "# ✍️ Fit your RandomForestClassifier in the training set.\n",
        "\n",
        "model = RandomForestClassifier(random_state=42)\n",
        "model.fit(X_train_final, y_train)"
      ]
    },
    {
      "cell_type": "markdown",
      "id": "a802c250-cf8c-405a-a78c-abeaca4e0a54",
      "metadata": {
        "id": "a802c250-cf8c-405a-a78c-abeaca4e0a54"
      },
      "source": [
        "## 📊 Step 5: Evaluation on Held-Out Test Set\n",
        "\n",
        "To estimate how well your model might perform in production, use a **test set that the model hasn’t seen**.\n",
        "\n",
        "Use:\n",
        "- [📘 accuracy_score](https://scikit-learn.org/stable/modules/generated/sklearn.metrics.accuracy_score.html)\n",
        "- [📘 classification_report](https://scikit-learn.org/stable/modules/generated/sklearn.metrics.classification_report.html)\n",
        "\n",
        "📌 **Reminder**: With class imbalance, accuracy can be misleading. Look at **precision, recall, and F1 score** as well."
      ]
    },
    {
      "cell_type": "code",
      "execution_count": 12,
      "id": "8d74ea87",
      "metadata": {
        "colab": {
          "base_uri": "https://localhost:8080/"
        },
        "id": "8d74ea87",
        "outputId": "13c179f8-05ef-4e21-f84a-dbd2838e727a"
      },
      "outputs": [
        {
          "output_type": "stream",
          "name": "stdout",
          "text": [
            "Accuracy: 0.9445277361319341\n",
            "Classification Report:\n",
            "               precision    recall  f1-score   support\n",
            "\n",
            "       False       0.94      1.00      0.97       572\n",
            "        True       0.98      0.62      0.76        95\n",
            "\n",
            "    accuracy                           0.94       667\n",
            "   macro avg       0.96      0.81      0.86       667\n",
            "weighted avg       0.95      0.94      0.94       667\n",
            "\n"
          ]
        }
      ],
      "source": [
        "# Evaluate on test set\n",
        "# ✍️ Save the prediction of your model on the test set to `y_pred`.\n",
        "y_pred = model.predict(X_test_final)\n",
        "# ✍️ Print the accuracy score your model got.\n",
        "print(\"Accuracy:\", accuracy_score(y_test, y_pred))\n",
        "# ✍️ Print a classification report for your model.\n",
        "print(\"Classification Report:\\n\", classification_report(y_test, y_pred))"
      ]
    },
    {
      "cell_type": "markdown",
      "id": "1aa7813b-5da5-43b2-8e69-aafa9888fd26",
      "metadata": {
        "id": "1aa7813b-5da5-43b2-8e69-aafa9888fd26"
      },
      "source": [
        "## 🔁 Step 6: Use Pipelines\n",
        "\n",
        "Manual preprocessing is error-prone. Use [📘 Pipelines](https://scikit-learn.org/stable/modules/generated/sklearn.pipeline.Pipeline.html) to:\n",
        "\n",
        "- Bundle preprocessing and modeling together.\n",
        "- Reduce leakage risk.\n",
        "- Improve reproducibility.\n",
        "\n",
        "We'll use [📘 ColumnTransformer](https://scikit-learn.org/stable/modules/generated/sklearn.compose.ColumnTransformer.html) to apply different preprocessing to numeric and categorical features.\n",
        "\n",
        "📚 Read more:\n",
        "- [📘 sklearn Pipelines Tutorial](https://scikit-learn.org/stable/modules/compose.html)\n",
        "- [📝 Blog Post](https://towardsdatascience.com/how-to-use-columntransformer-for-numerical-and-categorical-data-6d8cbd25f4b6)"
      ]
    },
    {
      "cell_type": "code",
      "execution_count": 16,
      "id": "9b41ebdd",
      "metadata": {
        "colab": {
          "base_uri": "https://localhost:8080/"
        },
        "id": "9b41ebdd",
        "outputId": "b5272de5-6d4d-4f3c-e81e-1c0a4e5786b8"
      },
      "outputs": [
        {
          "output_type": "stream",
          "name": "stdout",
          "text": [
            "Pipeline Accuracy: 0.9445277361319341\n",
            "Pipeline Classification Report:\n",
            "               precision    recall  f1-score   support\n",
            "\n",
            "       False       0.94      1.00      0.97       572\n",
            "        True       0.98      0.62      0.76        95\n",
            "\n",
            "    accuracy                           0.94       667\n",
            "   macro avg       0.96      0.81      0.86       667\n",
            "weighted avg       0.95      0.94      0.94       667\n",
            "\n"
          ]
        }
      ],
      "source": [
        "# Use sklearn pipeline\n",
        "# ✍️ Create a ColumnTransformer object, made up of a StandardScaler followed by a OneHotEncoder object.\n",
        "#❗ Important! Remember to use `sparse=False` or `sparse_output=False`.\n",
        "preprocessor = ColumnTransformer(\n",
        "    transformers=[\n",
        "        (\"num\", StandardScaler(), numeric_features),\n",
        "        (\"cat\", OneHotEncoder(handle_unknown=\"ignore\", sparse_output=False), categorical_features)\n",
        "    ]\n",
        ")\n",
        "# ✍️ Now create a Pipeline object made up of your column transformer object and a RandomForestClassifier object.\n",
        "pipeline = Pipeline(steps=[\n",
        "    (\"preprocessing\", preprocessor),\n",
        "    (\"classifier\", RandomForestClassifier(random_state=42))\n",
        "])\n",
        "# ✍️ Fit your pipeline object on the training set, then predict results for the test set\n",
        "# and produce a classification report.\n",
        "pipeline.fit(X_train, y_train)\n",
        "y_pred_pipeline = pipeline.predict(X_test)\n",
        "\n",
        "print(\"Pipeline Accuracy:\", accuracy_score(y_test, y_pred_pipeline))\n",
        "print(\"Pipeline Classification Report:\\n\", classification_report(y_test, y_pred_pipeline))"
      ]
    },
    {
      "cell_type": "markdown",
      "id": "2ea32585-1822-4f94-a0fa-16938544de12",
      "metadata": {
        "id": "2ea32585-1822-4f94-a0fa-16938544de12"
      },
      "source": [
        "## 🔍 Step 7: Manual Hyperparameter Tuning\n",
        "\n",
        "To make better models, tune key hyperparameters. We’ll try different values for `max_depth`.\n",
        "\n",
        "We'll use a **train-validation-test** split:\n",
        "- **Train**: build models\n",
        "- **Validation**: compare models\n",
        "- **Test**: final performance estimate\n",
        "\n",
        "[📘 train_test_split](https://scikit-learn.org/stable/modules/generated/sklearn.model_selection.train_test_split.html)"
      ]
    },
    {
      "cell_type": "code",
      "execution_count": 17,
      "id": "e9426854-68c6-4ce4-958d-1c13d3f0b7aa",
      "metadata": {
        "id": "e9426854-68c6-4ce4-958d-1c13d3f0b7aa"
      },
      "outputs": [],
      "source": [
        "# Let's unite the training and validation sets into one big set:\n",
        "df_full = pd.concat([df_train, df_test], ignore_index=True)\n",
        "X = df_full.drop(\"Churn\", axis=1)\n",
        "y = df_full[\"Churn\"]"
      ]
    },
    {
      "cell_type": "code",
      "execution_count": 18,
      "id": "9540e694",
      "metadata": {
        "id": "9540e694"
      },
      "outputs": [],
      "source": [
        "# Train-validation-test split for tuning\n",
        "# We use train_test_split to get a three-way split: Firstg into trainval and test;\n",
        "# then we split trainval into train and validation.\n",
        "X_trainval, X_test_final, y_trainval, y_test_final = train_test_split(X, y, test_size=0.2, random_state=42, stratify=y)\n",
        "X_train, X_val, y_train, y_val = train_test_split(X_trainval, y_trainval, test_size=0.25, random_state=42, stratify=y_trainval)"
      ]
    },
    {
      "cell_type": "code",
      "execution_count": 19,
      "id": "1f8e0efb",
      "metadata": {
        "colab": {
          "base_uri": "https://localhost:8080/"
        },
        "id": "1f8e0efb",
        "outputId": "0539bd98-0744-4977-e191-1a883d692f55"
      },
      "outputs": [
        {
          "output_type": "stream",
          "name": "stdout",
          "text": [
            "max_depth=5 → Validation Accuracy: 0.8786\n",
            "max_depth=10 → Validation Accuracy: 0.9325\n",
            "max_depth=15 → Validation Accuracy: 0.9400\n",
            "max_depth=20 → Validation Accuracy: 0.9475\n",
            "\n",
            "✅ Best max_depth found: 20 with accuracy 0.9475\n"
          ]
        }
      ],
      "source": [
        "# Manual hyperparameter tuning\n",
        "# ✍️ Manually find the best value for the max_depth hyperparameter out of [5, 10, 15, 20]:\n",
        "# 💡 Hint: Use a for loop to iterate over a list of possible values. Then, for each such value,\n",
        "# create a new pipeline with the appropriate value for RandomForestClassifier (you DON'T have to\n",
        "# create your ColumnTransformer again; use the same object you've already created), fit it on the\n",
        "# training set and evaluate it on the **validation set**! Do NOT touch the test set in this loop!\n",
        "# Hyperparameter tuning\n",
        "max_depth_values = [5, 10, 15, 20]\n",
        "best_score = 0\n",
        "best_depth = None\n",
        "\n",
        "for depth in max_depth_values:\n",
        "    # Create a pipeline with current max_depth\n",
        "    pipeline = Pipeline(steps=[\n",
        "        (\"preprocessing\", preprocessor),\n",
        "        (\"classifier\", RandomForestClassifier(max_depth=depth, random_state=42))\n",
        "    ])\n",
        "\n",
        "    # Fit on training set\n",
        "    pipeline.fit(X_train, y_train)\n",
        "\n",
        "    # Evaluate on validation set\n",
        "    y_val_pred = pipeline.predict(X_val)\n",
        "    acc = accuracy_score(y_val, y_val_pred)\n",
        "\n",
        "    print(f\"max_depth={depth} → Validation Accuracy: {acc:.4f}\")\n",
        "\n",
        "    # Keep track of best model\n",
        "    if acc > best_score:\n",
        "        best_score = acc\n",
        "        best_depth = depth\n",
        "\n",
        "print(f\"\\n✅ Best max_depth found: {best_depth} with accuracy {best_score:.4f}\")"
      ]
    },
    {
      "cell_type": "markdown",
      "id": "8a9f43ee-f6b1-42b1-8c3f-cb27ed56ac08",
      "metadata": {
        "id": "8a9f43ee-f6b1-42b1-8c3f-cb27ed56ac08"
      },
      "source": [
        "## ✅ Step 8: Final Evaluation and Deployment-Ready Model\n",
        "\n",
        "After choosing the best hyperparameter from the validation set, retrain your model on **train+val** and evaluate on **test**.\n",
        "\n",
        "Then, retrain a final version on **all labeled data** to use in production.\n",
        "\n",
        "You can save the model for future use using:\n",
        "[📘 sklearn model persistence](https://scikit-learn.org/stable/model_persistence.html)"
      ]
    },
    {
      "cell_type": "markdown",
      "id": "b8d6c4cf-0a25-4c4b-8b1f-d09422ebfbf4",
      "metadata": {
        "id": "b8d6c4cf-0a25-4c4b-8b1f-d09422ebfbf4"
      },
      "source": [
        "### 8.1: Final Evaluation"
      ]
    },
    {
      "cell_type": "code",
      "execution_count": 20,
      "id": "f533c3da",
      "metadata": {
        "colab": {
          "base_uri": "https://localhost:8080/"
        },
        "id": "f533c3da",
        "outputId": "a0f935e2-ddbd-4620-aebd-776910b1a8bf"
      },
      "outputs": [
        {
          "output_type": "stream",
          "name": "stdout",
          "text": [
            "🎯 Final Test Accuracy: 0.9370314842578711\n",
            "📊 Final Classification Report:\n",
            "               precision    recall  f1-score   support\n",
            "\n",
            "       False       0.93      1.00      0.96       570\n",
            "        True       0.98      0.58      0.73        97\n",
            "\n",
            "    accuracy                           0.94       667\n",
            "   macro avg       0.96      0.79      0.85       667\n",
            "weighted avg       0.94      0.94      0.93       667\n",
            "\n"
          ]
        }
      ],
      "source": [
        "# Final model evaluation\n",
        "# ✍️ Now create the pipeline again, now with max_depth set to the value which showed the\n",
        "# best results. Then, fit it on the **X_trainval** set, and predict on the test set.\n",
        "# What is the model performance? That's our estimate for future performamce.\n",
        "\n",
        "final_pipeline = Pipeline(steps=[\n",
        "    (\"preprocessing\", preprocessor),\n",
        "    (\"classifier\", RandomForestClassifier(max_depth=best_depth, random_state=42))\n",
        "])\n",
        "\n",
        "# מאמנים על כל ה־trainval\n",
        "final_pipeline.fit(X_trainval, y_trainval)\n",
        "\n",
        "# תחזית על סט הבדיקה הסופי\n",
        "y_test_pred = final_pipeline.predict(X_test_final)\n",
        "\n",
        "# מדדי ביצוע\n",
        "print(\"🎯 Final Test Accuracy:\", accuracy_score(y_test_final, y_test_pred))\n",
        "print(\"📊 Final Classification Report:\\n\", classification_report(y_test_final, y_test_pred))"
      ]
    },
    {
      "cell_type": "markdown",
      "id": "cd229a26-c1c1-44b5-bee1-ca62333a908d",
      "metadata": {
        "id": "cd229a26-c1c1-44b5-bee1-ca62333a908d"
      },
      "source": [
        "### 💬 Answer the following questions:\n",
        "- Are there more false positives or false negatives?\n",
        "- Which mistake is more costly in your business scenario?\n",
        "- Should you tune the model to favor precision or recall?"
      ]
    },
    {
      "cell_type": "markdown",
      "id": "cd23b69b-348f-4edf-ad33-6443003be3a6",
      "metadata": {
        "id": "cd23b69b-348f-4edf-ad33-6443003be3a6"
      },
      "source": [
        "### 🧪 Sub-Task: Plot the Confusion Matrix\n",
        "\n",
        "The **confusion matrix** helps you visually assess where your model is getting things right or wrong.\n",
        "\n",
        "It breaks predictions into:\n",
        "- **True Positives (TP)**: correctly predicted churners.\n",
        "- **True Negatives (TN)**: correctly predicted non-churners.\n",
        "- **False Positives (FP)**: predicted churn but customer stayed.\n",
        "- **False Negatives (FN)**: predicted stay but customer churned.\n",
        "\n",
        "This can help you **understand your model's trade-offs**, especially when classifying rare events (like churn).\n",
        "\n",
        "📘 Documentation:\n",
        "- [sklearn.metrics.confusion_matrix](https://scikit-learn.org/stable/modules/generated/sklearn.metrics.confusion_matrix.html)\n",
        "- [sklearn.metrics.ConfusionMatrixDisplay](https://scikit-learn.org/stable/modules/generated/sklearn.metrics.ConfusionMatrixDisplay.html)\n",
        "\n",
        "✍️ **Your task**: Use `ConfusionMatrixDisplay.from_predictions(...)` to plot the matrix."
      ]
    },
    {
      "cell_type": "code",
      "execution_count": 21,
      "id": "b58c1638",
      "metadata": {
        "colab": {
          "base_uri": "https://localhost:8080/",
          "height": 466
        },
        "id": "b58c1638",
        "outputId": "805c69ec-946d-4ac4-e513-ec3d28105034"
      },
      "outputs": [
        {
          "output_type": "execute_result",
          "data": {
            "text/plain": [
              "<sklearn.metrics._plot.confusion_matrix.ConfusionMatrixDisplay at 0x7e57123c3610>"
            ]
          },
          "metadata": {},
          "execution_count": 21
        },
        {
          "output_type": "display_data",
          "data": {
            "text/plain": [
              "<Figure size 640x480 with 2 Axes>"
            ],
            "image/png": "[encoded data removed]"
          },
          "metadata": {}
        }
      ],
      "source": [
        "# Plot confusion matrix\n",
        "# ✍️ Use ConfusionMatrixDisplay.from_predictions().\n",
        "ConfusionMatrixDisplay.from_predictions(y_test_final, y_test_pred)"
      ]
    },
    {
      "cell_type": "markdown",
      "source": [
        "**Are there more false positives or false negatives?**\n",
        "\n",
        "41 false negatives ניתן לראות שיש\n",
        "\n",
        "\n",
        "\n",
        "1 false positives ניתן לראות שיש\n",
        "\n",
        "\n",
        "**Which mistake is more costly in your business scenario?**\n",
        "\n",
        " false negatives עבור נטישת לקוחות\n",
        "\n",
        "\n",
        "נחשבת יקרה יותר כי חשבנו שהלקוח לא ינטוש לכן לא ניסינו לשמר אותו\n",
        "בפועל הוא עזב והפסדנו לקוח.\n",
        "\n",
        "**Should you tune the model to favor precision or recall? **\n",
        "\n",
        "\n",
        "\n",
        " במקרה שלנו נעדיף recall\n",
        "\n",
        " .כי נעדיף \"לתפוס\" את כל הלקוחות שעומדים לעזוב גם אם לפעמים נטעה.\n",
        "\n",
        " כלומר נעדיף כמה false positives\n",
        "\n",
        " .מאשר לפספס לקוחות"
      ],
      "metadata": {
        "id": "i7vPvjlKmgF-"
      },
      "id": "i7vPvjlKmgF-"
    },
    {
      "cell_type": "markdown",
      "id": "0d4bb79c-4c92-484f-b69f-1e8691bb4671",
      "metadata": {
        "id": "0d4bb79c-4c92-484f-b69f-1e8691bb4671"
      },
      "source": [
        "### 8.2: Train the final model"
      ]
    },
    {
      "cell_type": "code",
      "execution_count": 22,
      "id": "20b38234",
      "metadata": {
        "colab": {
          "base_uri": "https://localhost:8080/"
        },
        "id": "20b38234",
        "outputId": "69cc0730-434f-45f6-82f8-49e1245ceb40"
      },
      "outputs": [
        {
          "output_type": "stream",
          "name": "stdout",
          "text": [
            "✅ Final product-ready model is trained!\n"
          ]
        }
      ],
      "source": [
        "# Train final product-ready model\n",
        "# ✍️ Now create the pipeline again, one last time. Fit it on the entire dataset (X and y variables).\n",
        "# That's it! You're done! Great job!\n",
        "product_pipeline = Pipeline(steps=[\n",
        "    (\"preprocessing\", preprocessor),\n",
        "    (\"classifier\", RandomForestClassifier(max_depth=best_depth, random_state=42))\n",
        "])\n",
        "\n",
        "product_pipeline.fit(X, y)\n",
        "print(\"✅ Final product-ready model is trained!\")"
      ]
    },
    {
      "cell_type": "code",
      "source": [],
      "metadata": {
        "id": "_-JThGCKmJwJ"
      },
      "id": "_-JThGCKmJwJ",
      "execution_count": null,
      "outputs": []
    }
  ],
  "metadata": {
    "kernelspec": {
      "display_name": "Python 3 (ipykernel)",
      "language": "python",
      "name": "python3"
    },
    "language_info": {
      "codemirror_mode": {
        "name": "ipython",
        "version": 3
      },
      "file_extension": ".py",
      "mimetype": "text/x-python",
      "name": "python",
      "nbconvert_exporter": "python",
      "pygments_lexer": "ipython3",
      "version": "3.10.2"
    },
    "colab": {
      "provenance": []
    }
  },
  "nbformat": 4,
  "nbformat_minor": 5
}